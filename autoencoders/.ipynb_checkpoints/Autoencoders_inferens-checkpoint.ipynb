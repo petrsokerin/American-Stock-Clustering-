{
 "cells": [
  {
   "cell_type": "code",
   "execution_count": 1,
   "metadata": {
    "scrolled": false
   },
   "outputs": [],
   "source": [
    "from autoencoders import Conv1dAutoEncoder, LSTMAutoEncoder, TickerDataModule, MLPAutoEncoder\n",
    "\n",
    "from datetime import datetime\n",
    "from typing import Any\n",
    "import pandas as pd\n",
    "import numpy as np\n",
    "from math import floor\n",
    "import torch\n",
    "import json\n",
    "\n",
    "from tqdm.notebook import tqdm"
   ]
  },
  {
   "cell_type": "code",
   "execution_count": 2,
   "metadata": {},
   "outputs": [],
   "source": [
    "import pytorch_lightning as pl"
   ]
  },
  {
   "cell_type": "code",
   "execution_count": 3,
   "metadata": {},
   "outputs": [
    {
     "data": {
      "text/plain": [
       "{'start_date': '2018-01-01',\n",
       " 'end_date': '2022-11-01',\n",
       " 'riskless_rate': 0.03,\n",
       " 'n_clusters': 11,\n",
       " 'n_stock_portfolio': 2,\n",
       " 'random_state': 42,\n",
       " 'ticker_companies': 'data/sp500_tickers.csv',\n",
       " 'tickers_sectors_path': 'data/ticker_sectors.csv',\n",
       " 'ticker_data_close': 'data/ticker_data_Close.csv',\n",
       " 'ticker_data_sp500': 'data/ticker_data_SP500.csv',\n",
       " 'ticker_data_volume': 'data/ticker_data_Volume.csv',\n",
       " 'ticker_data_preprocessed': 'data/ticker_data_preprocessed.csv',\n",
       " 'features_path': 'data/features.csv',\n",
       " 'nn_mlp_checkpoint_2020': 'autoencoders/lightning_logs_2020/mlp/version_0/checkpoints/epoch=149-step=15450.ckpt',\n",
       " 'nn_lstm_checkpoint_2020': 'autoencoders/lightning_logs_2020/lstm/version_0/checkpoints/epoch=99-step=9100.ckpt',\n",
       " 'nn_conv_checkpoint_2020': 'autoencoders/lightning_logs_2020/cae/version_0/checkpoints/epoch=99-step=10300.ckpt',\n",
       " 'nn_mlp_checkpoint_2021': 'autoencoders/lightning_logs_2021/mlp/version_0/checkpoints/epoch=149-step=21600.ckpt',\n",
       " 'nn_lstm_checkpoint_2021': 'autoencoders/lightning_logs_2021/lstm/version_0/checkpoints/epoch=99-step=12800.ckpt',\n",
       " 'nn_conv_checkpoint_2021': 'autoencoders/lightning_logs_2021/cae/version_0/checkpoints/epoch=99-step=14400.ckpt',\n",
       " 'metrics_path': 'results/metrics_table.csv',\n",
       " 'predictions_path': 'results/prediction_table.csv',\n",
       " 'params_path': 'results/params_df.csv',\n",
       " 'port_metrics_path': 'results/port_metrics.csv',\n",
       " 'best_metrics_path': 'results/best_metrics.csv',\n",
       " 'financial_metric_path': 'results/financial_metric_{}_{}.csv',\n",
       " 'clust_metric_path': 'results/clust_metric_{}_{}.csv',\n",
       " 'port_path': 'results/metrics_table_{}_{}.pickle',\n",
       " 'weights_path': 'results/weights_table_{}_{}.pickle'}"
      ]
     },
     "execution_count": 3,
     "metadata": {},
     "output_type": "execute_result"
    }
   ],
   "source": [
    "with open('../config/config.json', 'r') as file:\n",
    "    config = json.load(file)\n",
    "config"
   ]
  },
  {
   "cell_type": "code",
   "execution_count": 5,
   "metadata": {},
   "outputs": [],
   "source": [
    "df = pd.read_csv('../'+config['ticker_data_preprocessed'], index_col=[0])\n",
    "#df.drop(columns=['sector'], axis=1, inplace=True)\n",
    "\n",
    "\n",
    "df = df.drop(['sector'], axis=1).T\n",
    "df.index = pd.to_datetime(df.index)\n",
    "df = df[(df.index < datetime(2020, 1, 1)) ].T"
   ]
  },
  {
   "cell_type": "code",
   "execution_count": 6,
   "metadata": {},
   "outputs": [
    {
     "ename": "KeyError",
     "evalue": "'nn_mlp_checkpoint'",
     "output_type": "error",
     "traceback": [
      "\u001b[0;31m---------------------------------------------------------------------------\u001b[0m",
      "\u001b[0;31mKeyError\u001b[0m                                  Traceback (most recent call last)",
      "\u001b[0;32m<ipython-input-6-73035f275714>\u001b[0m in \u001b[0;36m<module>\u001b[0;34m\u001b[0m\n\u001b[0;32m----> 1\u001b[0;31m model_mlp = MLPAutoEncoder.load_from_checkpoint('../'+config['nn_mlp_checkpoint'],\n\u001b[0m\u001b[1;32m      2\u001b[0m                                             \u001b[0min_features\u001b[0m\u001b[0;34m=\u001b[0m\u001b[0;36m100\u001b[0m\u001b[0;34m,\u001b[0m\u001b[0;34m\u001b[0m\u001b[0;34m\u001b[0m\u001b[0m\n\u001b[1;32m      3\u001b[0m                                             latent_features=100)\n\u001b[1;32m      4\u001b[0m model_lstm = LSTMAutoEncoder.load_from_checkpoint('../'+config['nn_lstm_checkpoint'],\n\u001b[1;32m      5\u001b[0m                                             \u001b[0mseq_len\u001b[0m\u001b[0;34m=\u001b[0m\u001b[0;36m100\u001b[0m\u001b[0;34m,\u001b[0m\u001b[0;34m\u001b[0m\u001b[0;34m\u001b[0m\u001b[0m\n",
      "\u001b[0;31mKeyError\u001b[0m: 'nn_mlp_checkpoint'"
     ]
    }
   ],
   "source": [
    "model_mlp = MLPAutoEncoder.load_from_checkpoint('../'+config['nn_mlp_checkpoint'],\n",
    "                                            in_features=100,\n",
    "                                            latent_features=100)\n",
    "model_lstm = LSTMAutoEncoder.load_from_checkpoint('../'+config['nn_lstm_checkpoint'],\n",
    "                                            seq_len=100,\n",
    "                                            n_features=1, \n",
    "                                            embedding_dim=100)\n",
    "model_cae = Conv1dAutoEncoder.load_from_checkpoint('../'+config['nn_conv_checkpoint'],\n",
    "                                            in_channels=1,\n",
    "                                            n_latent_features=100, \n",
    "                                            seq_len=100)\n",
    "model_mlp.eval()\n",
    "model_lstm.eval()\n",
    "model_cae.eval();"
   ]
  },
  {
   "cell_type": "code",
   "execution_count": 6,
   "metadata": {},
   "outputs": [
    {
     "data": {
      "application/vnd.jupyter.widget-view+json": {
       "model_id": "88338f187fd34e5f83686ad5727c77cd",
       "version_major": 2,
       "version_minor": 0
      },
      "text/plain": [
       "0it [00:00, ?it/s]"
      ]
     },
     "metadata": {},
     "output_type": "display_data"
    }
   ],
   "source": [
    "mlp_encoded = np.zeros((df.shape[0], 100))\n",
    "lstm_encoded = np.zeros((df.shape[0], 100))\n",
    "cae_encoded = np.zeros((df.shape[0], 100))\n",
    "\n",
    "for i, name_ticker in tqdm(enumerate(np.unique(df.index))):\n",
    "    ts_name = df[df.index == name_ticker].values\n",
    "    ts_name = ts_name.flatten()\n",
    "    seq_len = ts_name.shape[0]\n",
    "    fl_1 = floor(seq_len / 100)\n",
    "    sample_1 = ts_name[:100 * fl_1].reshape(fl_1, 1, 100)\n",
    "    fl_2 = floor(seq_len / 100)\n",
    "    sample_2 = ts_name[:100 * fl_2].reshape(fl_2, 1, 100)\n",
    "    \n",
    "    mlp_sample = model_mlp.predict_step(torch.tensor(sample_1).float()).detach().numpy()\n",
    "    cae_sample = model_cae.predict_step(torch.tensor(sample_1).float()).squeeze().detach().numpy()\n",
    "    lstm_sample = model_lstm.predict_step(torch.tensor(sample_2).float()).detach().numpy()\n",
    "    \n",
    "    mlp_emb = mlp_sample.mean(axis=0)\n",
    "    cae_emb = cae_sample.mean(axis=0)\n",
    "    lstm_emb = lstm_sample.mean(axis=0)\n",
    "    \n",
    "    mlp_encoded[i, :] = mlp_emb\n",
    "    cae_encoded[i, :] = cae_emb\n",
    "    lstm_encoded[i, :] = lstm_emb\n",
    "        "
   ]
  },
  {
   "cell_type": "code",
   "execution_count": 7,
   "metadata": {},
   "outputs": [],
   "source": [
    "df_mlp = pd.DataFrame(mlp_encoded, index=np.unique(df.index))\n",
    "df_cae = pd.DataFrame(cae_encoded, index=np.unique(df.index))\n",
    "df_lstm = pd.DataFrame(lstm_encoded, index=np.unique(df.index))"
   ]
  },
  {
   "cell_type": "code",
   "execution_count": 8,
   "metadata": {},
   "outputs": [],
   "source": [
    "df_mlp.to_csv('../'+config['nn_mlp_data'])\n",
    "df_cae.to_csv('../'+config['nn_conv_data'])\n",
    "df_lstm.to_csv('../'+config['nn_lstm_data'])"
   ]
  },
  {
   "cell_type": "code",
   "execution_count": null,
   "metadata": {},
   "outputs": [],
   "source": []
  }
 ],
 "metadata": {
  "kernelspec": {
   "display_name": "Python 3",
   "language": "python",
   "name": "python3"
  },
  "language_info": {
   "codemirror_mode": {
    "name": "ipython",
    "version": 3
   },
   "file_extension": ".py",
   "mimetype": "text/x-python",
   "name": "python",
   "nbconvert_exporter": "python",
   "pygments_lexer": "ipython3",
   "version": "3.8.5"
  }
 },
 "nbformat": 4,
 "nbformat_minor": 5
}
